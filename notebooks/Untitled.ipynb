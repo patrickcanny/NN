{
 "cells": [
  {
   "cell_type": "code",
   "execution_count": 1,
   "metadata": {},
   "outputs": [],
   "source": [
    "import pandas as pd\n",
    "import numpy as np"
   ]
  },
  {
   "cell_type": "code",
   "execution_count": 2,
   "metadata": {},
   "outputs": [],
   "source": [
    "df = pd.read_csv('../data/tox21_dense_train.csv')"
   ]
  },
  {
   "cell_type": "code",
   "execution_count": 3,
   "metadata": {},
   "outputs": [
    {
     "data": {
      "text/html": [
       "<div>\n",
       "<style scoped>\n",
       "    .dataframe tbody tr th:only-of-type {\n",
       "        vertical-align: middle;\n",
       "    }\n",
       "\n",
       "    .dataframe tbody tr th {\n",
       "        vertical-align: top;\n",
       "    }\n",
       "\n",
       "    .dataframe thead th {\n",
       "        text-align: right;\n",
       "    }\n",
       "</style>\n",
       "<table border=\"1\" class=\"dataframe\">\n",
       "  <thead>\n",
       "    <tr style=\"text-align: right;\">\n",
       "      <th></th>\n",
       "      <th>Unnamed: 0</th>\n",
       "      <th>AW</th>\n",
       "      <th>AWeight</th>\n",
       "      <th>Arto</th>\n",
       "      <th>BertzCT</th>\n",
       "      <th>Chi0</th>\n",
       "      <th>Chi1</th>\n",
       "      <th>Chi10</th>\n",
       "      <th>Chi2</th>\n",
       "      <th>Chi3</th>\n",
       "      <th>...</th>\n",
       "      <th>W3D</th>\n",
       "      <th>W3DH</th>\n",
       "      <th>WNSA1</th>\n",
       "      <th>WNSA2</th>\n",
       "      <th>WNSA3</th>\n",
       "      <th>WPSA1</th>\n",
       "      <th>WPSA2</th>\n",
       "      <th>WPSA3</th>\n",
       "      <th>grav</th>\n",
       "      <th>rygr</th>\n",
       "    </tr>\n",
       "  </thead>\n",
       "  <tbody>\n",
       "    <tr>\n",
       "      <th>0</th>\n",
       "      <td>NCGC00178831-03</td>\n",
       "      <td>5.436720e+07</td>\n",
       "      <td>13.053</td>\n",
       "      <td>2.176</td>\n",
       "      <td>3.194</td>\n",
       "      <td>23.112</td>\n",
       "      <td>15.868</td>\n",
       "      <td>1.496</td>\n",
       "      <td>15.127</td>\n",
       "      <td>12.592</td>\n",
       "      <td>...</td>\n",
       "      <td>2687.469</td>\n",
       "      <td>9241.018</td>\n",
       "      <td>115.371</td>\n",
       "      <td>-915.496</td>\n",
       "      <td>-39.983</td>\n",
       "      <td>290.078</td>\n",
       "      <td>2301.941</td>\n",
       "      <td>59.492</td>\n",
       "      <td>88.147</td>\n",
       "      <td>3.708</td>\n",
       "    </tr>\n",
       "    <tr>\n",
       "      <th>1</th>\n",
       "      <td>NCGC00166114-03</td>\n",
       "      <td>1.268818e+07</td>\n",
       "      <td>22.123</td>\n",
       "      <td>2.065</td>\n",
       "      <td>3.137</td>\n",
       "      <td>21.033</td>\n",
       "      <td>13.718</td>\n",
       "      <td>1.937</td>\n",
       "      <td>13.187</td>\n",
       "      <td>11.951</td>\n",
       "      <td>...</td>\n",
       "      <td>2184.384</td>\n",
       "      <td>3234.199</td>\n",
       "      <td>194.740</td>\n",
       "      <td>-1029.609</td>\n",
       "      <td>-34.205</td>\n",
       "      <td>235.360</td>\n",
       "      <td>1244.323</td>\n",
       "      <td>82.906</td>\n",
       "      <td>134.852</td>\n",
       "      <td>4.131</td>\n",
       "    </tr>\n",
       "    <tr>\n",
       "      <th>2</th>\n",
       "      <td>NCGC00263563-01</td>\n",
       "      <td>3.076932e+06</td>\n",
       "      <td>13.085</td>\n",
       "      <td>2.154</td>\n",
       "      <td>3.207</td>\n",
       "      <td>46.896</td>\n",
       "      <td>29.958</td>\n",
       "      <td>3.806</td>\n",
       "      <td>30.105</td>\n",
       "      <td>25.569</td>\n",
       "      <td>...</td>\n",
       "      <td>13803.524</td>\n",
       "      <td>76582.899</td>\n",
       "      <td>238.004</td>\n",
       "      <td>-4358.946</td>\n",
       "      <td>-106.537</td>\n",
       "      <td>868.685</td>\n",
       "      <td>15909.444</td>\n",
       "      <td>135.335</td>\n",
       "      <td>216.852</td>\n",
       "      <td>5.075</td>\n",
       "    </tr>\n",
       "    <tr>\n",
       "      <th>3</th>\n",
       "      <td>NCGC00013058-02</td>\n",
       "      <td>7.168569e+07</td>\n",
       "      <td>12.832</td>\n",
       "      <td>2.029</td>\n",
       "      <td>3.380</td>\n",
       "      <td>51.086</td>\n",
       "      <td>32.045</td>\n",
       "      <td>1.806</td>\n",
       "      <td>29.090</td>\n",
       "      <td>21.603</td>\n",
       "      <td>...</td>\n",
       "      <td>13807.345</td>\n",
       "      <td>50498.175</td>\n",
       "      <td>226.312</td>\n",
       "      <td>-2785.555</td>\n",
       "      <td>-61.923</td>\n",
       "      <td>763.288</td>\n",
       "      <td>9394.859</td>\n",
       "      <td>125.509</td>\n",
       "      <td>238.265</td>\n",
       "      <td>4.640</td>\n",
       "    </tr>\n",
       "    <tr>\n",
       "      <th>4</th>\n",
       "      <td>NCGC00167516-01</td>\n",
       "      <td>7.989702e+06</td>\n",
       "      <td>12.936</td>\n",
       "      <td>2.124</td>\n",
       "      <td>3.573</td>\n",
       "      <td>70.295</td>\n",
       "      <td>46.402</td>\n",
       "      <td>3.604</td>\n",
       "      <td>42.132</td>\n",
       "      <td>32.570</td>\n",
       "      <td>...</td>\n",
       "      <td>43231.286</td>\n",
       "      <td>163659.229</td>\n",
       "      <td>850.869</td>\n",
       "      <td>-21136.699</td>\n",
       "      <td>-367.122</td>\n",
       "      <td>1798.703</td>\n",
       "      <td>44681.209</td>\n",
       "      <td>362.168</td>\n",
       "      <td>317.901</td>\n",
       "      <td>7.845</td>\n",
       "    </tr>\n",
       "  </tbody>\n",
       "</table>\n",
       "<p>5 rows × 802 columns</p>\n",
       "</div>"
      ],
      "text/plain": [
       "        Unnamed: 0            AW  AWeight   Arto  BertzCT    Chi0    Chi1  \\\n",
       "0  NCGC00178831-03  5.436720e+07   13.053  2.176    3.194  23.112  15.868   \n",
       "1  NCGC00166114-03  1.268818e+07   22.123  2.065    3.137  21.033  13.718   \n",
       "2  NCGC00263563-01  3.076932e+06   13.085  2.154    3.207  46.896  29.958   \n",
       "3  NCGC00013058-02  7.168569e+07   12.832  2.029    3.380  51.086  32.045   \n",
       "4  NCGC00167516-01  7.989702e+06   12.936  2.124    3.573  70.295  46.402   \n",
       "\n",
       "   Chi10    Chi2    Chi3  ...        W3D        W3DH    WNSA1      WNSA2  \\\n",
       "0  1.496  15.127  12.592  ...   2687.469    9241.018  115.371   -915.496   \n",
       "1  1.937  13.187  11.951  ...   2184.384    3234.199  194.740  -1029.609   \n",
       "2  3.806  30.105  25.569  ...  13803.524   76582.899  238.004  -4358.946   \n",
       "3  1.806  29.090  21.603  ...  13807.345   50498.175  226.312  -2785.555   \n",
       "4  3.604  42.132  32.570  ...  43231.286  163659.229  850.869 -21136.699   \n",
       "\n",
       "     WNSA3     WPSA1      WPSA2    WPSA3     grav   rygr  \n",
       "0  -39.983   290.078   2301.941   59.492   88.147  3.708  \n",
       "1  -34.205   235.360   1244.323   82.906  134.852  4.131  \n",
       "2 -106.537   868.685  15909.444  135.335  216.852  5.075  \n",
       "3  -61.923   763.288   9394.859  125.509  238.265  4.640  \n",
       "4 -367.122  1798.703  44681.209  362.168  317.901  7.845  \n",
       "\n",
       "[5 rows x 802 columns]"
      ]
     },
     "execution_count": 3,
     "metadata": {},
     "output_type": "execute_result"
    }
   ],
   "source": [
    "df.head(5)"
   ]
  },
  {
   "cell_type": "code",
   "execution_count": 4,
   "metadata": {},
   "outputs": [],
   "source": [
    "import sys\n",
    "sys.path.insert(0, '../src/')\n",
    "import NN"
   ]
  },
  {
   "cell_type": "code",
   "execution_count": 5,
   "metadata": {},
   "outputs": [],
   "source": [
    "labels = df['grav'].values\n",
    "data = df.loc[:, df.columns != 'grav']\n",
    "data = df.loc[:, df.columns != 'Unnamed: 0'].values"
   ]
  },
  {
   "cell_type": "code",
   "execution_count": 6,
   "metadata": {},
   "outputs": [],
   "source": [
    "labels = np.array([[x] for x in labels])"
   ]
  },
  {
   "cell_type": "code",
   "execution_count": 7,
   "metadata": {},
   "outputs": [],
   "source": [
    "nn = NN.NN(data, labels)"
   ]
  },
  {
   "cell_type": "code",
   "execution_count": 8,
   "metadata": {},
   "outputs": [],
   "source": [
    "for i in range(1500):\n",
    "    nn.feedforward()\n",
    "    nn.backprop()"
   ]
  },
  {
   "cell_type": "code",
   "execution_count": 9,
   "metadata": {},
   "outputs": [
    {
     "name": "stdout",
     "output_type": "stream",
     "text": [
      "[[1.]\n",
      " [1.]\n",
      " [1.]\n",
      " ...\n",
      " [1.]\n",
      " [1.]\n",
      " [1.]]\n"
     ]
    }
   ],
   "source": [
    "print(nn.output)"
   ]
  },
  {
   "cell_type": "code",
   "execution_count": 10,
   "metadata": {},
   "outputs": [],
   "source": [
    "from sklearn.metrics import accuracy_score"
   ]
  },
  {
   "cell_type": "code",
   "execution_count": 11,
   "metadata": {},
   "outputs": [
    {
     "ename": "ValueError",
     "evalue": "Classification metrics can't handle a mix of continuous and binary targets",
     "output_type": "error",
     "traceback": [
      "\u001b[0;31m---------------------------------------------------------------------------\u001b[0m",
      "\u001b[0;31mValueError\u001b[0m                                Traceback (most recent call last)",
      "\u001b[0;32m<ipython-input-11-aa6524a9e207>\u001b[0m in \u001b[0;36m<module>\u001b[0;34m\u001b[0m\n\u001b[0;32m----> 1\u001b[0;31m \u001b[0maccuracy_score\u001b[0m\u001b[0;34m(\u001b[0m\u001b[0mlabels\u001b[0m\u001b[0;34m,\u001b[0m \u001b[0mnn\u001b[0m\u001b[0;34m.\u001b[0m\u001b[0moutput\u001b[0m\u001b[0;34m)\u001b[0m\u001b[0;34m\u001b[0m\u001b[0;34m\u001b[0m\u001b[0m\n\u001b[0m",
      "\u001b[0;32m/Library/Frameworks/Python.framework/Versions/3.6/lib/python3.6/site-packages/sklearn/metrics/classification.py\u001b[0m in \u001b[0;36maccuracy_score\u001b[0;34m(y_true, y_pred, normalize, sample_weight)\u001b[0m\n\u001b[1;32m    174\u001b[0m \u001b[0;34m\u001b[0m\u001b[0m\n\u001b[1;32m    175\u001b[0m     \u001b[0;31m# Compute accuracy for each possible representation\u001b[0m\u001b[0;34m\u001b[0m\u001b[0;34m\u001b[0m\u001b[0;34m\u001b[0m\u001b[0m\n\u001b[0;32m--> 176\u001b[0;31m     \u001b[0my_type\u001b[0m\u001b[0;34m,\u001b[0m \u001b[0my_true\u001b[0m\u001b[0;34m,\u001b[0m \u001b[0my_pred\u001b[0m \u001b[0;34m=\u001b[0m \u001b[0m_check_targets\u001b[0m\u001b[0;34m(\u001b[0m\u001b[0my_true\u001b[0m\u001b[0;34m,\u001b[0m \u001b[0my_pred\u001b[0m\u001b[0;34m)\u001b[0m\u001b[0;34m\u001b[0m\u001b[0;34m\u001b[0m\u001b[0m\n\u001b[0m\u001b[1;32m    177\u001b[0m     \u001b[0mcheck_consistent_length\u001b[0m\u001b[0;34m(\u001b[0m\u001b[0my_true\u001b[0m\u001b[0;34m,\u001b[0m \u001b[0my_pred\u001b[0m\u001b[0;34m,\u001b[0m \u001b[0msample_weight\u001b[0m\u001b[0;34m)\u001b[0m\u001b[0;34m\u001b[0m\u001b[0;34m\u001b[0m\u001b[0m\n\u001b[1;32m    178\u001b[0m     \u001b[0;32mif\u001b[0m \u001b[0my_type\u001b[0m\u001b[0;34m.\u001b[0m\u001b[0mstartswith\u001b[0m\u001b[0;34m(\u001b[0m\u001b[0;34m'multilabel'\u001b[0m\u001b[0;34m)\u001b[0m\u001b[0;34m:\u001b[0m\u001b[0;34m\u001b[0m\u001b[0;34m\u001b[0m\u001b[0m\n",
      "\u001b[0;32m/Library/Frameworks/Python.framework/Versions/3.6/lib/python3.6/site-packages/sklearn/metrics/classification.py\u001b[0m in \u001b[0;36m_check_targets\u001b[0;34m(y_true, y_pred)\u001b[0m\n\u001b[1;32m     79\u001b[0m     \u001b[0;32mif\u001b[0m \u001b[0mlen\u001b[0m\u001b[0;34m(\u001b[0m\u001b[0my_type\u001b[0m\u001b[0;34m)\u001b[0m \u001b[0;34m>\u001b[0m \u001b[0;36m1\u001b[0m\u001b[0;34m:\u001b[0m\u001b[0;34m\u001b[0m\u001b[0;34m\u001b[0m\u001b[0m\n\u001b[1;32m     80\u001b[0m         raise ValueError(\"Classification metrics can't handle a mix of {0} \"\n\u001b[0;32m---> 81\u001b[0;31m                          \"and {1} targets\".format(type_true, type_pred))\n\u001b[0m\u001b[1;32m     82\u001b[0m \u001b[0;34m\u001b[0m\u001b[0m\n\u001b[1;32m     83\u001b[0m     \u001b[0;31m# We can't have more than one value on y_type => The set is no more needed\u001b[0m\u001b[0;34m\u001b[0m\u001b[0;34m\u001b[0m\u001b[0;34m\u001b[0m\u001b[0m\n",
      "\u001b[0;31mValueError\u001b[0m: Classification metrics can't handle a mix of continuous and binary targets"
     ]
    }
   ],
   "source": [
    "accuracy_score(labels, nn.output)"
   ]
  },
  {
   "cell_type": "code",
   "execution_count": null,
   "metadata": {},
   "outputs": [],
   "source": []
  }
 ],
 "metadata": {
  "kernelspec": {
   "display_name": "Python 3",
   "language": "python",
   "name": "python3"
  },
  "language_info": {
   "codemirror_mode": {
    "name": "ipython",
    "version": 3
   },
   "file_extension": ".py",
   "mimetype": "text/x-python",
   "name": "python",
   "nbconvert_exporter": "python",
   "pygments_lexer": "ipython3",
   "version": "3.6.8"
  }
 },
 "nbformat": 4,
 "nbformat_minor": 2
}
